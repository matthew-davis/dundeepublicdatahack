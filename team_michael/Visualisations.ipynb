{
 "cells": [
  {
   "cell_type": "markdown",
   "metadata": {},
   "source": [
    "# Visualisation"
   ]
  },
  {
   "cell_type": "code",
   "execution_count": 7,
   "metadata": {},
   "outputs": [],
   "source": [
    "import folium, pandas\n",
    "\n",
    "base_data_url = \"../datasets/project/road safety/road-safety-data-{}\"\n",
    "accidents_16 = pandas.read_csv(base_data_url.format(\"accidents-2016.csv\"))\n",
    "accidents_15 = pandas.read_csv(base_data_url.format(\"accidents-2015.csv\"))\n",
    "accidents_14 = pandas.read_csv(base_data_url.format(\"accidents-2005-2014.csv\"))\n",
    "accidents = pandas.DataFrame()\n",
    "accidents = pandas.concat([accidents_16, accidents_15, accidents_14], axis=0)"
   ]
  },
  {
   "cell_type": "code",
   "execution_count": 8,
   "metadata": {},
   "outputs": [
    {
     "name": "stderr",
     "output_type": "stream",
     "text": [
      "/usr/lib64/python3.6/site-packages/pandas/core/frame.py:2450: SettingWithCopyWarning: \n",
      "A value is trying to be set on a copy of a slice from a DataFrame.\n",
      "Try using .loc[row_indexer,col_indexer] = value instead\n",
      "\n",
      "See the caveats in the documentation: http://pandas.pydata.org/pandas-docs/stable/indexing.html#indexing-view-versus-copy\n",
      "  self[k1] = value[k2]\n"
     ]
    }
   ],
   "source": [
    "accidents = pandas.DataFrame()\n",
    "accidents = pandas.concat([accidents_16, accidents_15, accidents_14], axis=0)\n",
    "\n",
    "accidents_n = accidents.loc[(accidents[\"Latitude\"] != \"Data missing or out of range\") &\n",
    "             (accidents[\"Longitude\"] != \"Data missing or out of range\")]\n",
    "# Convert lat/long fields to numeric, or we have a crash\n",
    "accidents_n[['Longitude','Latitude']] = accidents_n[['Longitude','Latitude']].apply(pandas.to_numeric)"
   ]
  },
  {
   "cell_type": "markdown",
   "metadata": {},
   "source": [
    "## Accidents map\n",
    "Show the location of all accidents, color coded by severity."
   ]
  },
  {
   "cell_type": "code",
   "execution_count": 9,
   "metadata": {},
   "outputs": [],
   "source": [
    "map_acc = folium.Map(location=[56.4620, -2.9707], zoom_start=12)\n",
    "colors = {'Slight': 'green', 'Serious': 'orange', 'Fatal': 'red'}\n",
    "accidents_n.apply(lambda row:folium.CircleMarker(location=[row[\"Latitude\"], row[\"Longitude\"]], \n",
    "                                               radius=10, \n",
    "                                               fill_color=colors[row[\"Accident_Severity\"]],\n",
    "                                               fill = True,\n",
    "                                               stroke=False,\n",
    "                                               fill_opacity=0.5,\n",
    "                                               popup = str(row[\"Accident_Index\"]))\n",
    "                                             .add_to(map_acc), axis=1)\n",
    "\n",
    "map_acc.save(\"map_acc.html\")"
   ]
  },
  {
   "cell_type": "markdown",
   "metadata": {},
   "source": [
    "## Cameras\n",
    "Show the locations of all cameras in Dundee, and Voronoi polygons for them. Allows you to determine the nearest camera to you at a given location."
   ]
  },
  {
   "cell_type": "code",
   "execution_count": 10,
   "metadata": {},
   "outputs": [],
   "source": [
    "import numpy\n",
    "cameras = pandas.read_csv(\"../datasets/project/cameras_wgs.csv\", delimiter='\\t')\n",
    "# Need to filter out nans here\n",
    "cameras = cameras[numpy.isfinite(cameras['Lat'])]"
   ]
  },
  {
   "cell_type": "code",
   "execution_count": 11,
   "metadata": {},
   "outputs": [],
   "source": [
    "cameras_coords = pandas.concat([cameras.Lat, cameras.Lon], axis=1)"
   ]
  },
  {
   "cell_type": "code",
   "execution_count": 12,
   "metadata": {},
   "outputs": [],
   "source": [
    "def notnan(x):\n",
    "    try: \n",
    "        int(x)\n",
    "        return True\n",
    "    except:\n",
    "        return False"
   ]
  },
  {
   "cell_type": "code",
   "execution_count": 13,
   "metadata": {},
   "outputs": [],
   "source": [
    "from scipy.spatial import Voronoi, voronoi_plot_2d\n",
    "cameras_list = [list(x) for x in cameras_coords.values if notnan(x[0])]\n",
    "\n",
    "vor = Voronoi(cameras_list) "
   ]
  },
  {
   "cell_type": "code",
   "execution_count": 14,
   "metadata": {},
   "outputs": [],
   "source": [
    "%%capture\n",
    "# Now actually plot with folium\n",
    "map_cam = folium.Map(location=[56.4620, -2.9707], zoom_start=12)\n",
    "\n",
    "cameras.apply(lambda row:folium.Circle(location=[row[\"Lat\"], row[\"Lon\"]], \n",
    "                                       radius=1, \n",
    "                                       color='black',\n",
    "                                       popup = row[\"Camera Location\"])\n",
    "                                      .add_to(map_cam), axis=1)"
   ]
  },
  {
   "cell_type": "code",
   "execution_count": 15,
   "metadata": {},
   "outputs": [],
   "source": [
    "# Add voronois\n",
    "# http://comet.lehman.cuny.edu/owen/teaching/datasci/makeVor.py\n",
    "\n",
    "from geojson import FeatureCollection, Feature, Polygon\n",
    "\n",
    "vorJSON = open('libVor.json', 'w')\n",
    "point_voronoi_list = []\n",
    "feature_list = []\n",
    "for region in range(len(vor.regions)-1):\n",
    "    vertex_list = []\n",
    "    for x in vor.regions[region]:\n",
    "        #Not sure how to map the \"infinite\" point, so, leave off those regions for now:\n",
    "        if x == -1:\n",
    "            break;\n",
    "        else:\n",
    "            #Get the vertex out of the list, and flip the order for folium:\n",
    "            vertex = vor.vertices[x]\n",
    "            vertex = (vertex[1], vertex[0])\n",
    "        vertex_list.append(vertex)\n",
    "    #Save the vertex list as a polygon and then add to the feature_list:\n",
    "    polygon = Polygon([vertex_list])\n",
    "    feature = Feature(geometry=polygon, properties={})\n",
    "    feature_list.append(feature)\n",
    "\n",
    "#Write the features to the new file:\n",
    "feature_collection = FeatureCollection(feature_list)\n",
    "print (feature_collection, file=vorJSON)\n",
    "vorJSON.close()\n",
    "\n",
    "\n",
    "folium.GeoJson(\n",
    "    \"libVor.json\",\n",
    "    name='geojson'\n",
    ").add_to(map_cam)\n",
    "map_cam.save(\"map_cam.html\")"
   ]
  },
  {
   "cell_type": "code",
   "execution_count": 16,
   "metadata": {},
   "outputs": [],
   "source": [
    "#map_cam"
   ]
  },
  {
   "cell_type": "markdown",
   "metadata": {},
   "source": [
    "# Other stuff"
   ]
  },
  {
   "cell_type": "markdown",
   "metadata": {},
   "source": [
    "## Food standards\n",
    "Show the location of restaurants in Dundee, and their color-coded food safety rating."
   ]
  },
  {
   "cell_type": "code",
   "execution_count": 17,
   "metadata": {},
   "outputs": [
    {
     "name": "stdout",
     "output_type": "stream",
     "text": [
      "\n"
     ]
    }
   ],
   "source": [
    "food = pandas.read_csv(\"../datasets/fhrs.csv\")\n",
    "# Filter nans\n",
    "food = food[numpy.isfinite(food[\"EstablishmentDetail - Geocode - Latitude\"])]\n",
    "\n",
    "# Remove duplicates\n",
    "food.drop_duplicates(subset=['FHRSID'], keep='first')\n",
    "\n",
    "# Make dataset smaller\n",
    "#food = food.iloc[:100]\n",
    "print()"
   ]
  },
  {
   "cell_type": "code",
   "execution_count": 18,
   "metadata": {},
   "outputs": [
    {
     "data": {
      "text/plain": [
       "{'Awaiting Inspection', 'Exempt', 'Improvement Required', 'Pass'}"
      ]
     },
     "execution_count": 18,
     "metadata": {},
     "output_type": "execute_result"
    }
   ],
   "source": [
    "set(food[\"EstablishmentDetail - RatingValue\"].values)"
   ]
  },
  {
   "cell_type": "code",
   "execution_count": 19,
   "metadata": {},
   "outputs": [],
   "source": [
    "import re\n",
    "map_food = folium.Map(location=[56.4620, -2.9707], zoom_start=12)\n",
    "colors = {'Awaiting Inspection': 'amber', 'Exempt': 'blue', 'Improvement Required': 'red', 'Pass': 'green'}\n",
    "\n",
    "def label(row):\n",
    "    label = \"\"\n",
    "    label += (re.sub(r'\\W+', ' ', str(row[\"EstablishmentDetail - BusinessName\"]))) + \" - \"\n",
    "    label += row[\"EstablishmentDetail - RatingValue\"]\n",
    "    return label\n",
    "\n",
    "food.apply(lambda row:folium.CircleMarker(location=[row[\"EstablishmentDetail - Geocode - Latitude\"], \n",
    "                                                    row[\"EstablishmentDetail - Geocode - Longitude\"]],\n",
    "                                         radius = 10,\n",
    "                                         stroke = False,\n",
    "                                         fill = True,\n",
    "                                         fill_color = colors[row[\"EstablishmentDetail - RatingValue\"]],\n",
    "                                         fill_opacity = 0.5,\n",
    "                                          # Regex is necessary, otherwise crash\n",
    "                                          popup = label(row))\n",
    "                                         .add_to(map_food), axis=1)\n",
    "map_food.save(\"map_food.html\")"
   ]
  },
  {
   "cell_type": "markdown",
   "metadata": {},
   "source": [
    " "
   ]
  },
  {
   "cell_type": "markdown",
   "metadata": {},
   "source": [
    "## Monuments\n",
    "- Which monuments am I in walking distance of?"
   ]
  },
  {
   "cell_type": "code",
   "execution_count": 143,
   "metadata": {},
   "outputs": [],
   "source": [
    "monuments = pandas.read_csv(\"../datasets/monuments_transformed.csv\")"
   ]
  },
  {
   "cell_type": "code",
   "execution_count": 158,
   "metadata": {},
   "outputs": [],
   "source": [
    "from gpxpy.geo import haversine_distance\n",
    "\n",
    "def p_dist(lat1, lon1, lat2, lon2):\n",
    "    return haversine_distance(lat1, lon1, lat2, lon2)\n",
    "\n",
    "def col(lat1, lon1, lat2, lon2):\n",
    "    dist = p_dist(lat1, lon1, lat2, lon2)\n",
    "    if dist < 500:\n",
    "        return 'lightgreen'\n",
    "    # 10 min walk\n",
    "    elif dist < 1000:\n",
    "        return 'green'\n",
    "    # 30 min walk\n",
    "    elif dist < 3000:\n",
    "        return 'orange'\n",
    "    # 1h walk\n",
    "    elif dist < 6000:\n",
    "        return 'lightred'\n",
    "    # >1h\n",
    "    else:\n",
    "        return 'red'"
   ]
  },
  {
   "cell_type": "code",
   "execution_count": 160,
   "metadata": {},
   "outputs": [],
   "source": [
    "from folium.plugins import MeasureControl\n",
    "\n",
    "train_station_coords = [56.4568, -2.9702]\n",
    "t = train_station_coords\n",
    "\n",
    "map_monuments = folium.Map(location=[56.4620, -2.9707], zoom_start=12)\n",
    "# Monuments points\n",
    "monuments.apply(lambda row:folium.Marker(location=[row[\"Latitude\"], row[\"Longitude\"]], \n",
    "                                                      icon=folium.Icon(color=col(row[\"Latitude\"], row[\"Longitude\"], t[0], t[1]), icon=\"\"),\n",
    "                                       popup = re.sub(r'\\W+', ' ',str(row[\"Monument_Name\"])) \n",
    "                                         + \"Distance: \" + str(p_dist(row[\"Latitude\"], row[\"Longitude\"], t[0], t[1]))\n",
    "                                        ).add_to(map_monuments), axis=1)\n",
    "\n",
    "\n",
    "\n",
    "map_monuments.add_child(MeasureControl())\n",
    "map_monuments.save(\"map_monuments.html\")"
   ]
  },
  {
   "cell_type": "code",
   "execution_count": null,
   "metadata": {},
   "outputs": [],
   "source": []
  },
  {
   "cell_type": "code",
   "execution_count": null,
   "metadata": {},
   "outputs": [],
   "source": []
  }
 ],
 "metadata": {
  "kernelspec": {
   "display_name": "Python 3",
   "language": "python",
   "name": "python3"
  },
  "language_info": {
   "codemirror_mode": {
    "name": "ipython",
    "version": 3
   },
   "file_extension": ".py",
   "mimetype": "text/x-python",
   "name": "python",
   "nbconvert_exporter": "python",
   "pygments_lexer": "ipython3",
   "version": "3.6.4"
  }
 },
 "nbformat": 4,
 "nbformat_minor": 2
}
